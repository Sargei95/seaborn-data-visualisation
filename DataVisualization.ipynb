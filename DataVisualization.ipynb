{
 "cells": [
  {
   "cell_type": "markdown",
   "id": "64f67476-1978-4391-bb30-550b123e4c70",
   "metadata": {},
   "source": [
    "# Mastering Seaborn Visualizations for Data Science with Python\n",
    "**Dataset:** Heart Disease Dataset<br>\n",
    "Kaggle:<br>\n",
    "https://www.kaggle.com/datasets/johnsmith88/heart-disease-dataset <br>\n",
    "Github:<br>\n",
    "https://github.com/Sargei95/seaborn-data-visualisation <br>\n",
    "Youtube Playlist:<br>\n",
    "https://www.youtube.com/playlist?list=PLeKQXSD4L73wXw7AojiZp5ynKdfS-nUDQ <br>"
   ]
  },
  {
   "cell_type": "markdown",
   "id": "0bd23fc9-579b-462a-a357-46b9e4c122cf",
   "metadata": {},
   "source": [
    "# What you will learn!\n",
    "\n",
    "Welcome to our video series on mastering data visualization with Seaborn.\n",
    "\n",
    "In the world of data science, the ability to visualize data clearly and effectively is just as important as analyzing it.\n",
    "\n",
    "Whether you're exploring data, identifying patterns, or communicating results, strong visualizations help transform raw numbers into actionable insights. This is where Seaborn comes in.\n",
    "\n",
    "Seaborn is a powerful Python library built on top of Matplotlib that simplifies the process of creating beautiful and informative statistical graphics. It comes with high-level functions for drawing attractive and meaningful plots with just a few lines of code.\n",
    "\n",
    "In this session, we’ll focus on the most important Seaborn plots every data scientist should know.\n",
    "\n",
    "These include:\n",
    "\n",
    "Distribution plots for understanding the shape of your data\n",
    "\n",
    "Categorical plots for comparing variables across groups\n",
    "\n",
    "Relational plots for exploring relationships between features\n",
    "\n",
    "Heatmaps for visualizing correlations and matrix data\n",
    "\n",
    "Pair plots for quick exploratory data analysis across multiple dimensions\n",
    "\n",
    "By the end of this lesson, you’ll have a solid grasp of how to use Seaborn to create the right plots for the right questions, enabling clearer insights and stronger storytelling with data."
   ]
  },
  {
   "cell_type": "markdown",
   "id": "405241b9-845b-40c1-be4e-62f173c98663",
   "metadata": {},
   "source": [
    "# Setup and requirements\n",
    "\n",
    "1. Pandas: Pandas is a Python library used for data manipulation and analysis, providing powerful data structures like DataFrames.\n",
    "2. Matplotlib: Matplotlib is a comprehensive Python library for creating static, animated, and interactive visualizations.\n",
    "3. Seaborn: Seaborn is a Python data visualization library built on Matplotlib that provides a high-level interface for drawing attractive statistical graphics.\n",
    "---\n",
    "1. pip install pandas\n",
    "2. pip install matplotlib\n",
    "3. pip install seaborn"
   ]
  },
  {
   "cell_type": "markdown",
   "id": "743b01c5-7155-45d6-ae7f-3bad41f48c11",
   "metadata": {},
   "source": [
    "# Libraries"
   ]
  },
  {
   "cell_type": "code",
   "execution_count": 1,
   "id": "e333a43c-e15e-47fd-868c-e0fac08d31c7",
   "metadata": {},
   "outputs": [],
   "source": [
    "import pandas as pd\n",
    "import matplotlib.pyplot as plt\n",
    "import seaborn as  sns"
   ]
  },
  {
   "cell_type": "markdown",
   "id": "bac5d0df-d440-481a-8516-7cd1a58846e9",
   "metadata": {},
   "source": [
    "# Dataset information\n",
    "The dataset compiles heart disease patient records from four sources (Cleveland, Hungary, Switzerland, and Long Beach V) dating back to 1988, containing 76 attributes (commonly reduced to a subset of 14 key features such as age, sex, chest pain, blood pressure, cholesterol, ECG results, max heart rate, exercise-induced angina, ST depression, slope, number of major vessels, and thalassemia) aimed at predicting the presence of heart disease—with the target variable being binary (0 = no disease, 1 = disease).\n",
    "\n",
    "This dataset is widely used to build and benchmark machine learning models (like Logistic Regression, Random Forests, SVMs, Neural Networks) for binary classification tasks, distinguishing between patients with and without heart disease ."
   ]
  },
  {
   "cell_type": "markdown",
   "id": "53fe2591-f161-41f2-b046-5f64699121fd",
   "metadata": {},
   "source": [
    "# Reading Data"
   ]
  },
  {
   "cell_type": "code",
   "execution_count": 2,
   "id": "b0620fbf-4fe8-4193-8ff0-1826eaa508ac",
   "metadata": {},
   "outputs": [
    {
     "data": {
      "text/html": [
       "<div>\n",
       "<style scoped>\n",
       "    .dataframe tbody tr th:only-of-type {\n",
       "        vertical-align: middle;\n",
       "    }\n",
       "\n",
       "    .dataframe tbody tr th {\n",
       "        vertical-align: top;\n",
       "    }\n",
       "\n",
       "    .dataframe thead th {\n",
       "        text-align: right;\n",
       "    }\n",
       "</style>\n",
       "<table border=\"1\" class=\"dataframe\">\n",
       "  <thead>\n",
       "    <tr style=\"text-align: right;\">\n",
       "      <th></th>\n",
       "      <th>Age</th>\n",
       "      <th>Sex</th>\n",
       "      <th>ChestPainType</th>\n",
       "      <th>RestingBP</th>\n",
       "      <th>Cholesterol</th>\n",
       "      <th>FastingBS</th>\n",
       "      <th>RestingECG</th>\n",
       "      <th>MaxHR</th>\n",
       "      <th>ExerciseAngina</th>\n",
       "      <th>Oldpeak</th>\n",
       "      <th>ST_Slope</th>\n",
       "      <th>HeartDisease</th>\n",
       "    </tr>\n",
       "  </thead>\n",
       "  <tbody>\n",
       "    <tr>\n",
       "      <th>496</th>\n",
       "      <td>58</td>\n",
       "      <td>M</td>\n",
       "      <td>ASY</td>\n",
       "      <td>132</td>\n",
       "      <td>458</td>\n",
       "      <td>1</td>\n",
       "      <td>Normal</td>\n",
       "      <td>69</td>\n",
       "      <td>N</td>\n",
       "      <td>1.0</td>\n",
       "      <td>Down</td>\n",
       "      <td>0</td>\n",
       "    </tr>\n",
       "    <tr>\n",
       "      <th>580</th>\n",
       "      <td>51</td>\n",
       "      <td>M</td>\n",
       "      <td>ASY</td>\n",
       "      <td>131</td>\n",
       "      <td>152</td>\n",
       "      <td>1</td>\n",
       "      <td>LVH</td>\n",
       "      <td>130</td>\n",
       "      <td>Y</td>\n",
       "      <td>1.0</td>\n",
       "      <td>Flat</td>\n",
       "      <td>1</td>\n",
       "    </tr>\n",
       "    <tr>\n",
       "      <th>897</th>\n",
       "      <td>55</td>\n",
       "      <td>F</td>\n",
       "      <td>ASY</td>\n",
       "      <td>128</td>\n",
       "      <td>205</td>\n",
       "      <td>0</td>\n",
       "      <td>ST</td>\n",
       "      <td>130</td>\n",
       "      <td>Y</td>\n",
       "      <td>2.0</td>\n",
       "      <td>Flat</td>\n",
       "      <td>1</td>\n",
       "    </tr>\n",
       "    <tr>\n",
       "      <th>341</th>\n",
       "      <td>64</td>\n",
       "      <td>M</td>\n",
       "      <td>ASY</td>\n",
       "      <td>110</td>\n",
       "      <td>0</td>\n",
       "      <td>1</td>\n",
       "      <td>Normal</td>\n",
       "      <td>114</td>\n",
       "      <td>Y</td>\n",
       "      <td>1.3</td>\n",
       "      <td>Down</td>\n",
       "      <td>1</td>\n",
       "    </tr>\n",
       "    <tr>\n",
       "      <th>721</th>\n",
       "      <td>51</td>\n",
       "      <td>M</td>\n",
       "      <td>NAP</td>\n",
       "      <td>100</td>\n",
       "      <td>222</td>\n",
       "      <td>0</td>\n",
       "      <td>Normal</td>\n",
       "      <td>143</td>\n",
       "      <td>Y</td>\n",
       "      <td>1.2</td>\n",
       "      <td>Flat</td>\n",
       "      <td>0</td>\n",
       "    </tr>\n",
       "  </tbody>\n",
       "</table>\n",
       "</div>"
      ],
      "text/plain": [
       "     Age Sex ChestPainType  RestingBP  Cholesterol  FastingBS RestingECG  \\\n",
       "496   58   M           ASY        132          458          1     Normal   \n",
       "580   51   M           ASY        131          152          1        LVH   \n",
       "897   55   F           ASY        128          205          0         ST   \n",
       "341   64   M           ASY        110            0          1     Normal   \n",
       "721   51   M           NAP        100          222          0     Normal   \n",
       "\n",
       "     MaxHR ExerciseAngina  Oldpeak ST_Slope  HeartDisease  \n",
       "496     69              N      1.0     Down             0  \n",
       "580    130              Y      1.0     Flat             1  \n",
       "897    130              Y      2.0     Flat             1  \n",
       "341    114              Y      1.3     Down             1  \n",
       "721    143              Y      1.2     Flat             0  "
      ]
     },
     "execution_count": 2,
     "metadata": {},
     "output_type": "execute_result"
    }
   ],
   "source": [
    "# define the filepath to the csv-file\n",
    "file = \"heart_disease.csv\"\n",
    "\n",
    "# read the data\n",
    "df = pd.read_csv(file, sep =',')\n",
    "\n",
    "# view the data\n",
    "df.sample(5, random_state= 500)"
   ]
  },
  {
   "cell_type": "code",
   "execution_count": 3,
   "id": "8f4a7e99-69ca-4fe1-89e0-d8f9ce30d18c",
   "metadata": {},
   "outputs": [
    {
     "name": "stdout",
     "output_type": "stream",
     "text": [
      "<class 'pandas.core.frame.DataFrame'>\n",
      "RangeIndex: 918 entries, 0 to 917\n",
      "Data columns (total 12 columns):\n",
      " #   Column          Non-Null Count  Dtype  \n",
      "---  ------          --------------  -----  \n",
      " 0   Age             918 non-null    int64  \n",
      " 1   Sex             918 non-null    object \n",
      " 2   ChestPainType   918 non-null    object \n",
      " 3   RestingBP       918 non-null    int64  \n",
      " 4   Cholesterol     918 non-null    int64  \n",
      " 5   FastingBS       918 non-null    int64  \n",
      " 6   RestingECG      918 non-null    object \n",
      " 7   MaxHR           918 non-null    int64  \n",
      " 8   ExerciseAngina  918 non-null    object \n",
      " 9   Oldpeak         918 non-null    float64\n",
      " 10  ST_Slope        918 non-null    object \n",
      " 11  HeartDisease    918 non-null    int64  \n",
      "dtypes: float64(1), int64(6), object(5)\n",
      "memory usage: 86.2+ KB\n"
     ]
    }
   ],
   "source": [
    "# data information\n",
    "df.info()"
   ]
  },
  {
   "cell_type": "code",
   "execution_count": 4,
   "id": "5778adcb-f533-4d6a-8c6f-1eea69c00997",
   "metadata": {},
   "outputs": [],
   "source": [
    "# dtypes from object to categories\n",
    "for cols in df.select_dtypes(include='object').columns:\n",
    "    df[cols] = df[cols].astype('category')"
   ]
  },
  {
   "cell_type": "code",
   "execution_count": 5,
   "id": "1ef8877f-c5a9-4a2c-928e-eb7e96801759",
   "metadata": {},
   "outputs": [
    {
     "name": "stdout",
     "output_type": "stream",
     "text": [
      "<class 'pandas.core.frame.DataFrame'>\n",
      "RangeIndex: 918 entries, 0 to 917\n",
      "Data columns (total 12 columns):\n",
      " #   Column          Non-Null Count  Dtype   \n",
      "---  ------          --------------  -----   \n",
      " 0   Age             918 non-null    int64   \n",
      " 1   Sex             918 non-null    category\n",
      " 2   ChestPainType   918 non-null    category\n",
      " 3   RestingBP       918 non-null    int64   \n",
      " 4   Cholesterol     918 non-null    int64   \n",
      " 5   FastingBS       918 non-null    int64   \n",
      " 6   RestingECG      918 non-null    category\n",
      " 7   MaxHR           918 non-null    int64   \n",
      " 8   ExerciseAngina  918 non-null    category\n",
      " 9   Oldpeak         918 non-null    float64 \n",
      " 10  ST_Slope        918 non-null    category\n",
      " 11  HeartDisease    918 non-null    int64   \n",
      "dtypes: category(5), float64(1), int64(6)\n",
      "memory usage: 55.5 KB\n"
     ]
    }
   ],
   "source": [
    "# view on data info\n",
    "df.info()"
   ]
  },
  {
   "cell_type": "code",
   "execution_count": 6,
   "id": "ccca2f0b-e454-41c0-bb19-89fc23fe7051",
   "metadata": {},
   "outputs": [
    {
     "data": {
      "text/plain": [
       "Age               0\n",
       "Sex               0\n",
       "ChestPainType     0\n",
       "RestingBP         0\n",
       "Cholesterol       0\n",
       "FastingBS         0\n",
       "RestingECG        0\n",
       "MaxHR             0\n",
       "ExerciseAngina    0\n",
       "Oldpeak           0\n",
       "ST_Slope          0\n",
       "HeartDisease      0\n",
       "dtype: int64"
      ]
     },
     "execution_count": 6,
     "metadata": {},
     "output_type": "execute_result"
    }
   ],
   "source": [
    "# checking for missing values\n",
    "df.isna().sum()"
   ]
  }
 ],
 "metadata": {
  "kernelspec": {
   "display_name": "Python 3 (ipykernel)",
   "language": "python",
   "name": "python3"
  },
  "language_info": {
   "codemirror_mode": {
    "name": "ipython",
    "version": 3
   },
   "file_extension": ".py",
   "mimetype": "text/x-python",
   "name": "python",
   "nbconvert_exporter": "python",
   "pygments_lexer": "ipython3",
   "version": "3.12.1"
  }
 },
 "nbformat": 4,
 "nbformat_minor": 5
}
